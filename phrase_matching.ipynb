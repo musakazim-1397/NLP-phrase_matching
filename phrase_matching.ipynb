{
 "cells": [
  {
   "cell_type": "code",
   "execution_count": 1,
   "metadata": {},
   "outputs": [],
   "source": [
    "import spacy\n",
    "nlp= spacy.load('en_core_web_sm')\n",
    "from spacy.matcher import PhraseMatcher\n",
    "matcher= PhraseMatcher(nlp.vocab)"
   ]
  },
  {
   "cell_type": "code",
   "execution_count": 2,
   "metadata": {},
   "outputs": [],
   "source": [
    "doc=nlp(u\"\"\"Reaganomics a portmanteau of Reagan and economics attributed to Paul Harvey),[1] or Reaganism, refers to the neoliberal[2][3][4] economic policies promoted by U.S. President Ronald Reagan during the 1980s. These policies are commonly associated with and characterized as supply-side economics, trickle-down economics, or \"voodoo economics\" by opponents,[5] while Reagan and his advocates preferred to call it free-market economics.\n",
    "The pillars of Reagans economic policy included increasing defense spending, balancing the federal budget and slowing the growth of government spending, reducing the federal income tax and capital gains tax, reducing government regulation, and tightening the money supply in order to reduce inflation.[6]\n",
    "The results of Reaganomics are still debated. Supporters point to the end of stagflation, stronger GDP growth, and an entrepreneurial revolution in the decades that followed.[7][8] Critics point to the widening income gap, what they described as an atmosphere of greed, reduced economic mobility, and the national debt tripling in eight years which ultimately reversed the post-World War II trend of a shrinking national debt as percentage of GDP\"\"\")"
   ]
  },
  {
   "cell_type": "code",
   "execution_count": 3,
   "metadata": {},
   "outputs": [],
   "source": [
    "#we create an array of words/phrases we're gonna be searching for the doc object\n",
    "phrase_list=['voodo economics', 'supply-side economics', 'trickle-down economics', 'free-market economics']"
   ]
  },
  {
   "cell_type": "code",
   "execution_count": 4,
   "metadata": {},
   "outputs": [
    {
     "name": "stdout",
     "output_type": "stream",
     "text": [
      "[(3680293220734633682, 41, 45), (3680293220734633682, 46, 50), (3680293220734633682, 68, 72)]\n"
     ]
    }
   ],
   "source": [
    "#we then convert each phrase into a doc object\n",
    "phrase_patterns=[nlp(text) for text in phrase_list]\n",
    "matcher.add('EconMatcher', phrase_patterns)\n",
    "found_matches= matcher(doc)\n",
    "print(found_matches)"
   ]
  },
  {
   "cell_type": "code",
   "execution_count": 6,
   "metadata": {},
   "outputs": [
    {
     "name": "stdout",
     "output_type": "stream",
     "text": [
      "3680293220734633682 EconMatcher associated with and characterized as supply-side economics, trickle-down economics\n",
      "3680293220734633682 EconMatcher supply-side economics, trickle-down economics, or \"voodoo economics\n",
      "3680293220734633682 EconMatcher advocates preferred to call it free-market economics.\n",
      "The pillars of\n"
     ]
    }
   ],
   "source": [
    "for match_id,start,stop in found_matches:\n",
    "    string=nlp.vocab.strings[match_id]\n",
    "    span=doc[start-5:stop+5]\n",
    "    print(match_id, string, span)"
   ]
  },
  {
   "cell_type": "code",
   "execution_count": null,
   "metadata": {},
   "outputs": [],
   "source": [
    "#to calculate the no of sentences: find the lenght of array doc.sents"
   ]
  }
 ],
 "metadata": {
  "kernelspec": {
   "display_name": "Python 3",
   "language": "python",
   "name": "python3"
  },
  "language_info": {
   "codemirror_mode": {
    "name": "ipython",
    "version": 3
   },
   "file_extension": ".py",
   "mimetype": "text/x-python",
   "name": "python",
   "nbconvert_exporter": "python",
   "pygments_lexer": "ipython3",
   "version": "3.10.7"
  },
  "orig_nbformat": 4,
  "vscode": {
   "interpreter": {
    "hash": "369f2c481f4da34e4445cda3fffd2e751bd1c4d706f27375911949ba6bb62e1c"
   }
  }
 },
 "nbformat": 4,
 "nbformat_minor": 2
}
